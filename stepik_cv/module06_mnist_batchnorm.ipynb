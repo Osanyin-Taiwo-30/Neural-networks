{
 "cells": [
  {
   "cell_type": "markdown",
   "metadata": {
    "colab_type": "text",
    "id": "cdjn6pICZMoM"
   },
   "source": [
    "![alt text](https://engmrk.com/wp-content/uploads/2018/09/LeNet_Original_Image.jpg)"
   ]
  },
  {
   "cell_type": "markdown",
   "metadata": {
    "colab_type": "text",
    "id": "14icu4JgZXqM"
   },
   "source": [
    "![alt text](https://engmrk.com/wp-content/uploads/2018/09/LeNEt_Summary_Table.jpg)"
   ]
  },
  {
   "cell_type": "code",
   "execution_count": 1,
   "metadata": {
    "ExecuteTime": {
     "end_time": "2020-01-21T07:59:09.805992Z",
     "start_time": "2020-01-21T07:59:08.411352Z"
    },
    "colab": {},
    "colab_type": "code",
    "id": "85_HkTjcNZeg"
   },
   "outputs": [],
   "source": [
    "import torch\n",
    "import random\n",
    "import numpy as np\n",
    "import matplotlib.pyplot as plt\n",
    "from matplotlib import style\n",
    "style.use('ggplot')\n",
    "\n",
    "random.seed(0)\n",
    "np.random.seed(0)\n",
    "torch.manual_seed(0)\n",
    "torch.cuda.manual_seed(0)\n",
    "torch.backends.cudnn.deterministic = True"
   ]
  },
  {
   "cell_type": "code",
   "execution_count": 2,
   "metadata": {
    "ExecuteTime": {
     "end_time": "2020-01-21T07:59:09.906018Z",
     "start_time": "2020-01-21T07:59:09.808189Z"
    },
    "colab": {},
    "colab_type": "code",
    "id": "kjPVw9UfNZel"
   },
   "outputs": [],
   "source": [
    "import torchvision.datasets"
   ]
  },
  {
   "cell_type": "code",
   "execution_count": 3,
   "metadata": {
    "ExecuteTime": {
     "end_time": "2020-01-21T07:59:12.688756Z",
     "start_time": "2020-01-21T07:59:12.603410Z"
    },
    "colab": {},
    "colab_type": "code",
    "id": "buWKcUqGNZeo"
   },
   "outputs": [],
   "source": [
    "MNIST_train = torchvision.datasets.MNIST('./', download=True, train=True)\n",
    "MNIST_test = torchvision.datasets.MNIST('./', download=True, train=False)"
   ]
  },
  {
   "cell_type": "code",
   "execution_count": 4,
   "metadata": {
    "ExecuteTime": {
     "end_time": "2020-01-21T07:59:13.889995Z",
     "start_time": "2020-01-21T07:59:13.886158Z"
    },
    "colab": {},
    "colab_type": "code",
    "id": "nyrpGOtPNZeq"
   },
   "outputs": [],
   "source": [
    "X_train = MNIST_train.train_data\n",
    "y_train = MNIST_train.train_labels\n",
    "X_test = MNIST_test.test_data\n",
    "y_test = MNIST_test.test_labels"
   ]
  },
  {
   "cell_type": "code",
   "execution_count": 5,
   "metadata": {
    "ExecuteTime": {
     "end_time": "2020-01-21T07:59:14.361174Z",
     "start_time": "2020-01-21T07:59:14.354517Z"
    },
    "colab": {
     "base_uri": "https://localhost:8080/",
     "height": 35
    },
    "colab_type": "code",
    "id": "f_TmOTWdNZet",
    "outputId": "c78af945-67f1-49e4-b14b-3aef698c2022"
   },
   "outputs": [
    {
     "data": {
      "text/plain": [
       "(60000, 10000)"
      ]
     },
     "execution_count": 5,
     "metadata": {},
     "output_type": "execute_result"
    }
   ],
   "source": [
    "len(y_train), len(y_test)"
   ]
  },
  {
   "cell_type": "code",
   "execution_count": 6,
   "metadata": {
    "ExecuteTime": {
     "end_time": "2020-01-21T07:59:15.069796Z",
     "start_time": "2020-01-21T07:59:14.930993Z"
    },
    "colab": {
     "base_uri": "https://localhost:8080/",
     "height": 365
    },
    "colab_type": "code",
    "id": "Zd-E4vIpNZe1",
    "outputId": "39d74e9c-5377-4715-928a-052133a7fcb8"
   },
   "outputs": [
    {
     "data": {
      "image/png": "[encoded data removed]",
      "text/plain": [
       "<Figure size 432x288 with 1 Axes>"
      ]
     },
     "metadata": {},
     "output_type": "display_data"
    },
    {
     "name": "stdout",
     "output_type": "stream",
     "text": [
      "tensor(5)\n"
     ]
    }
   ],
   "source": [
    "plt.imshow(X_train[0, :, :], cmap='gray')\n",
    "plt.show()\n",
    "print(y_train[0])"
   ]
  },
  {
   "cell_type": "code",
   "execution_count": 7,
   "metadata": {
    "ExecuteTime": {
     "end_time": "2020-01-21T07:59:16.420880Z",
     "start_time": "2020-01-21T07:59:16.228195Z"
    },
    "colab": {},
    "colab_type": "code",
    "id": "Tf9LiDGuNZe6"
   },
   "outputs": [],
   "source": [
    "X_train = X_train.unsqueeze(1).float()\n",
    "X_test = X_test.unsqueeze(1).float()"
   ]
  },
  {
   "cell_type": "code",
   "execution_count": 8,
   "metadata": {
    "ExecuteTime": {
     "end_time": "2020-01-21T07:59:16.999010Z",
     "start_time": "2020-01-21T07:59:16.980720Z"
    },
    "colab": {
     "base_uri": "https://localhost:8080/",
     "height": 35
    },
    "colab_type": "code",
    "id": "kxKAhEYHNZe-",
    "outputId": "18d2a4e7-5cd8-4534-a5df-64e00bd2956b"
   },
   "outputs": [
    {
     "data": {
      "text/plain": [
       "torch.Size([60000, 1, 28, 28])"
      ]
     },
     "execution_count": 8,
     "metadata": {},
     "output_type": "execute_result"
    }
   ],
   "source": [
    "X_train.shape"
   ]
  },
  {
   "cell_type": "code",
   "execution_count": 9,
   "metadata": {
    "ExecuteTime": {
     "end_time": "2020-01-21T07:59:18.246520Z",
     "start_time": "2020-01-21T07:59:18.230792Z"
    },
    "colab": {},
    "colab_type": "code",
    "id": "xhsw9soDODel"
   },
   "outputs": [],
   "source": [
    "class LeNet5(torch.nn.Module):\n",
    "    def __init__(self,\n",
    "                 activation='tanh',\n",
    "                 pooling='avg',\n",
    "                 conv_size=5,\n",
    "                 use_batch_norm=False):\n",
    "        super(LeNet5, self).__init__()\n",
    "        \n",
    "        self.conv_size = conv_size\n",
    "        self.use_batch_norm = use_batch_norm\n",
    "        \n",
    "        if activation == 'tanh':\n",
    "            activation_function = torch.nn.Tanh()\n",
    "        elif activation == 'relu':\n",
    "            activation_function  = torch.nn.ReLU()\n",
    "        else:\n",
    "            raise NotImplementedError\n",
    "            \n",
    "        if pooling == 'avg':\n",
    "            pooling_layer = torch.nn.AvgPool2d(kernel_size=2, stride=2)\n",
    "        elif pooling == 'max':\n",
    "            pooling_layer  = torch.nn.MaxPool2d(kernel_size=2, stride=2)\n",
    "        else:\n",
    "            raise NotImplementedError\n",
    "        \n",
    "        if conv_size == 5:\n",
    "            self.conv1 = torch.nn.Conv2d(\n",
    "                in_channels=1, out_channels=6, kernel_size=5, padding=2)\n",
    "        elif conv_size == 3:\n",
    "            self.conv1_1 = torch.nn.Conv2d(\n",
    "                in_channels=1, out_channels=6, kernel_size=3, padding=1)\n",
    "            self.conv1_2 = torch.nn.Conv2d(\n",
    "                in_channels=6, out_channels=6, kernel_size=3, padding=1)\n",
    "        else:\n",
    "            raise NotImplementedError\n",
    "\n",
    "        self.act1 = activation_function\n",
    "        self.bn1 = torch.nn.BatchNorm2d(num_features=6)\n",
    "        self.pool1 = pooling_layer\n",
    "       \n",
    "        if conv_size == 5:\n",
    "            self.conv2 = self.conv2 = torch.nn.Conv2d(\n",
    "                in_channels=6, out_channels=16, kernel_size=5, padding=0)\n",
    "        elif conv_size == 3:\n",
    "            self.conv2_1 = torch.nn.Conv2d(\n",
    "                in_channels=6, out_channels=16, kernel_size=3, padding=0)\n",
    "            self.conv2_2 = torch.nn.Conv2d(\n",
    "                in_channels=16, out_channels=16, kernel_size=3, padding=0)\n",
    "        else:\n",
    "            raise NotImplementedError\n",
    "\n",
    "        self.act2 = activation_function\n",
    "        self.bn2 = torch.nn.BatchNorm2d(num_features=16)\n",
    "        self.pool2 = pooling_layer\n",
    "        \n",
    "        self.fc1 = torch.nn.Linear(5 * 5 * 16, 120)\n",
    "        self.act3 = activation_function\n",
    "    \n",
    "        self.fc2 = torch.nn.Linear(120, 84)\n",
    "        self.act4 = activation_function\n",
    "        \n",
    "        self.fc3 = torch.nn.Linear(84, 10)\n",
    "    \n",
    "    def forward(self, x):\n",
    "        if self.conv_size == 5:\n",
    "            x = self.conv1(x)\n",
    "        elif self.conv_size == 3:\n",
    "            x = self.conv1_2(self.conv1_1(x))\n",
    "        x = self.act1(x)\n",
    "        if self.use_batch_norm:\n",
    "            x = self.bn1(x)\n",
    "        x = self.pool1(x)\n",
    "        \n",
    "        if self.conv_size == 5:\n",
    "            x = self.conv2(x)\n",
    "        elif self.conv_size == 3:\n",
    "            x = self.conv2_2(self.conv2_1(x))\n",
    "        x = self.act2(x)\n",
    "        if self.use_batch_norm:\n",
    "            x = self.bn2(x)\n",
    "        x = self.pool2(x)\n",
    "        \n",
    "        x = x.view(x.size(0), x.size(1) * x.size(2) * x.size(3))\n",
    "        x = self.fc1(x)\n",
    "        x = self.act3(x)\n",
    "        x = self.fc2(x)\n",
    "        x = self.act4(x)\n",
    "        x = self.fc3(x)\n",
    "        \n",
    "        return x"
   ]
  },
  {
   "cell_type": "code",
   "execution_count": 10,
   "metadata": {
    "ExecuteTime": {
     "end_time": "2020-01-21T07:59:21.090684Z",
     "start_time": "2020-01-21T07:59:21.068314Z"
    },
    "colab": {},
    "colab_type": "code",
    "id": "XfA9gqSdNZfQ"
   },
   "outputs": [],
   "source": [
    "def train(net, X_train, y_train, X_test, y_test):\n",
    "    device = torch.device('cuda:0' if torch.cuda.is_available() else 'cpu')\n",
    "    net = net.to(device)\n",
    "    loss = torch.nn.CrossEntropyLoss()\n",
    "    optimizer = torch.optim.Adam(net.parameters(), lr=1.0e-3)\n",
    "    \n",
    "    batch_size = 100\n",
    "\n",
    "    test_accuracy_history = []\n",
    "    test_loss_history = []\n",
    "\n",
    "    X_test = X_test.to(device)\n",
    "    y_test = y_test.to(device)\n",
    "\n",
    "    for epoch in range(30):\n",
    "        order = np.random.permutation(len(X_train))\n",
    "        for start_index in range(0, len(X_train), batch_size):\n",
    "            optimizer.zero_grad()\n",
    "            net.train()\n",
    "\n",
    "            batch_indexes = order[start_index:start_index+batch_size]\n",
    "\n",
    "            X_batch = X_train[batch_indexes].to(device)\n",
    "            y_batch = y_train[batch_indexes].to(device)\n",
    "\n",
    "            preds = net.forward(X_batch) \n",
    "\n",
    "            loss_value = loss(preds, y_batch)\n",
    "            loss_value.backward()\n",
    "\n",
    "            optimizer.step()\n",
    "\n",
    "        net.eval()\n",
    "        test_preds = net.forward(X_test)\n",
    "        test_loss_history.append(loss(test_preds, y_test).data.cpu())\n",
    "\n",
    "        accuracy = (test_preds.argmax(dim=1) == y_test).float().mean().data.cpu()\n",
    "        test_accuracy_history.append(accuracy)\n",
    "\n",
    "        print(accuracy)\n",
    "    print('---------------')\n",
    "    return test_accuracy_history, test_loss_history"
   ]
  },
  {
   "cell_type": "code",
   "execution_count": 11,
   "metadata": {
    "ExecuteTime": {
     "end_time": "2020-01-21T09:22:51.805449Z",
     "start_time": "2020-01-21T07:59:22.389336Z"
    }
   },
   "outputs": [
    {
     "name": "stdout",
     "output_type": "stream",
     "text": [
      "tensor(0.9760)\n",
      "tensor(0.9831)\n",
      "tensor(0.9861)\n",
      "tensor(0.9870)\n",
      "tensor(0.9880)\n",
      "tensor(0.9885)\n",
      "tensor(0.9871)\n",
      "tensor(0.9883)\n",
      "tensor(0.9887)\n",
      "tensor(0.9891)\n",
      "tensor(0.9883)\n",
      "tensor(0.9887)\n",
      "tensor(0.9881)\n",
      "tensor(0.9898)\n",
      "tensor(0.9907)\n",
      "tensor(0.9893)\n",
      "tensor(0.9896)\n",
      "tensor(0.9882)\n",
      "tensor(0.9908)\n",
      "tensor(0.9882)\n",
      "tensor(0.9906)\n",
      "tensor(0.9874)\n",
      "tensor(0.9880)\n",
      "tensor(0.9913)\n",
      "tensor(0.9913)\n",
      "tensor(0.9902)\n",
      "tensor(0.9903)\n",
      "tensor(0.9880)\n",
      "tensor(0.9896)\n",
      "tensor(0.9904)\n",
      "---------------\n",
      "tensor(0.9839)\n",
      "tensor(0.9843)\n",
      "tensor(0.9888)\n",
      "tensor(0.9853)\n",
      "tensor(0.9893)\n",
      "tensor(0.9901)\n",
      "tensor(0.9825)\n",
      "tensor(0.9900)\n",
      "tensor(0.9888)\n",
      "tensor(0.9888)\n",
      "tensor(0.9898)\n",
      "tensor(0.9911)\n",
      "tensor(0.9898)\n",
      "tensor(0.9889)\n",
      "tensor(0.9893)\n",
      "tensor(0.9890)\n",
      "tensor(0.9898)\n",
      "tensor(0.9898)\n",
      "tensor(0.9875)\n",
      "tensor(0.9910)\n",
      "tensor(0.9922)\n",
      "tensor(0.9895)\n",
      "tensor(0.9914)\n",
      "tensor(0.9912)\n",
      "tensor(0.9899)\n",
      "tensor(0.9923)\n",
      "tensor(0.9893)\n",
      "tensor(0.9904)\n",
      "tensor(0.9902)\n",
      "tensor(0.9890)\n",
      "---------------\n",
      "tensor(0.9802)\n",
      "tensor(0.9868)\n",
      "tensor(0.9883)\n",
      "tensor(0.9896)\n",
      "tensor(0.9879)\n",
      "tensor(0.9881)\n",
      "tensor(0.9894)\n",
      "tensor(0.9913)\n",
      "tensor(0.9909)\n",
      "tensor(0.9899)\n",
      "tensor(0.9899)\n",
      "tensor(0.9888)\n",
      "tensor(0.9882)\n",
      "tensor(0.9889)\n",
      "tensor(0.9906)\n",
      "tensor(0.9899)\n",
      "tensor(0.9901)\n",
      "tensor(0.9888)\n",
      "tensor(0.9878)\n",
      "tensor(0.9893)\n",
      "tensor(0.9897)\n",
      "tensor(0.9896)\n",
      "tensor(0.9897)\n",
      "tensor(0.9910)\n",
      "tensor(0.9888)\n",
      "tensor(0.9915)\n",
      "tensor(0.9904)\n",
      "tensor(0.9885)\n",
      "tensor(0.9902)\n",
      "tensor(0.9914)\n",
      "---------------\n",
      "tensor(0.9821)\n",
      "tensor(0.9870)\n",
      "tensor(0.9864)\n",
      "tensor(0.9860)\n",
      "tensor(0.9864)\n",
      "tensor(0.9878)\n",
      "tensor(0.9885)\n",
      "tensor(0.9881)\n",
      "tensor(0.9898)\n",
      "tensor(0.9880)\n",
      "tensor(0.9874)\n",
      "tensor(0.9854)\n",
      "tensor(0.9883)\n",
      "tensor(0.9878)\n",
      "tensor(0.9872)\n",
      "tensor(0.9896)\n",
      "tensor(0.9901)\n",
      "tensor(0.9886)\n",
      "tensor(0.9885)\n",
      "tensor(0.9880)\n",
      "tensor(0.9883)\n",
      "tensor(0.9883)\n",
      "tensor(0.9905)\n",
      "tensor(0.9907)\n",
      "tensor(0.9871)\n",
      "tensor(0.9894)\n",
      "tensor(0.9887)\n",
      "tensor(0.9883)\n",
      "tensor(0.9872)\n",
      "tensor(0.9901)\n",
      "---------------\n",
      "tensor(0.9841)\n",
      "tensor(0.9862)\n",
      "tensor(0.9855)\n",
      "tensor(0.9904)\n",
      "tensor(0.9856)\n",
      "tensor(0.9870)\n",
      "tensor(0.9855)\n",
      "tensor(0.9908)\n",
      "tensor(0.9892)\n",
      "tensor(0.9912)\n",
      "tensor(0.9891)\n",
      "tensor(0.9908)\n",
      "tensor(0.9903)\n",
      "tensor(0.9904)\n",
      "tensor(0.9917)\n",
      "tensor(0.9893)\n",
      "tensor(0.9915)\n",
      "tensor(0.9888)\n",
      "tensor(0.9898)\n",
      "tensor(0.9895)\n",
      "tensor(0.9908)\n",
      "tensor(0.9914)\n",
      "tensor(0.9904)\n",
      "tensor(0.9883)\n",
      "tensor(0.9902)\n",
      "tensor(0.9912)\n",
      "tensor(0.9905)\n",
      "tensor(0.9895)\n",
      "tensor(0.9920)\n",
      "tensor(0.9917)\n",
      "---------------\n"
     ]
    }
   ],
   "source": [
    "accuracies = {}\n",
    "losses = {}\n",
    "\n",
    "\n",
    "accuracies['tanh'], losses['tanh'] = \\\n",
    "    train(LeNet5(activation='tanh', conv_size=5),\n",
    "          X_train, y_train, X_test, y_test)\n",
    "\n",
    "accuracies['relu'], losses['relu'] = \\\n",
    "    train(LeNet5(activation='relu', conv_size=5),\n",
    "          X_train, y_train, X_test, y_test)\n",
    "\n",
    "accuracies['relu_3'], losses['relu_3'] = \\\n",
    "    train(LeNet5(activation='relu', conv_size=3),\n",
    "          X_train, y_train, X_test, y_test)\n",
    "\n",
    "accuracies['relu_3_max_pool'], losses['relu_3_max_pool'] = \\\n",
    "    train(LeNet5(activation='relu', conv_size=3, pooling='max'), \n",
    "          X_train, y_train, X_test, y_test)\n",
    "\n",
    "accuracies['relu_3_max_pool_bn'], losses['relu_3_max_pool_bn'] = \\\n",
    "    train(LeNet5(activation='relu', conv_size=3, pooling='max', use_batch_norm=True), \n",
    "          X_train, y_train, X_test, y_test)"
   ]
  },
  {
   "cell_type": "code",
   "execution_count": 12,
   "metadata": {
    "ExecuteTime": {
     "end_time": "2020-01-21T09:22:52.765122Z",
     "start_time": "2020-01-21T09:22:51.878354Z"
    },
    "colab": {
     "base_uri": "https://localhost:8080/",
     "height": 362
    },
    "colab_type": "code",
    "id": "4FDtagQvNZfU",
    "outputId": "77b050e8-5c03-4dd8-a341-03eb5690e2c7"
   },
   "outputs": [
    {
     "data": {
      "image/png": "[encoded data removed]",
      "text/plain": [
       "<Figure size 432x288 with 1 Axes>"
      ]
     },
     "metadata": {},
     "output_type": "display_data"
    }
   ],
   "source": [
    "for experiment_id in accuracies.keys():\n",
    "    plt.plot(accuracies[experiment_id], label=experiment_id)\n",
    "plt.legend()\n",
    "plt.title('Validation Accuracy');"
   ]
  },
  {
   "cell_type": "code",
   "execution_count": 13,
   "metadata": {
    "ExecuteTime": {
     "end_time": "2020-01-21T09:22:53.142957Z",
     "start_time": "2020-01-21T09:22:52.768893Z"
    },
    "colab": {
     "base_uri": "https://localhost:8080/",
     "height": 362
    },
    "colab_type": "code",
    "id": "lhgYxVChySw_",
    "outputId": "d6bd3d24-c1be-4bcb-dddb-24447abab926"
   },
   "outputs": [
    {
     "data": {
      "image/png": "[encoded data removed]",
      "text/plain": [
       "<Figure size 432x288 with 1 Axes>"
      ]
     },
     "metadata": {},
     "output_type": "display_data"
    }
   ],
   "source": [
    "for experiment_id in losses.keys():\n",
    "    plt.plot(losses[experiment_id], label=experiment_id)\n",
    "plt.legend()\n",
    "plt.title('Validation Loss');"
   ]
  },
  {
   "cell_type": "code",
   "execution_count": null,
   "metadata": {},
   "outputs": [],
   "source": []
  }
 ],
 "metadata": {
  "accelerator": "GPU",
  "colab": {
   "collapsed_sections": [],
   "name": "Lesson 6 Digits Recognition Convolutional Video BatchNorm.ipynb",
   "provenance": [],
   "version": "0.3.2"
  },
  "kernelspec": {
   "display_name": "Python 3",
   "language": "python",
   "name": "python3"
  },
  "language_info": {
   "codemirror_mode": {
    "name": "ipython",
    "version": 3
   },
   "file_extension": ".py",
   "mimetype": "text/x-python",
   "name": "python",
   "nbconvert_exporter": "python",
   "pygments_lexer": "ipython3",
   "version": "3.6.5"
  },
  "toc": {
   "base_numbering": 1,
   "nav_menu": {},
   "number_sections": true,
   "sideBar": true,
   "skip_h1_title": false,
   "title_cell": "Table of Contents",
   "title_sidebar": "Contents",
   "toc_cell": false,
   "toc_position": {},
   "toc_section_display": true,
   "toc_window_display": false
  }
 },
 "nbformat": 4,
 "nbformat_minor": 1
}
